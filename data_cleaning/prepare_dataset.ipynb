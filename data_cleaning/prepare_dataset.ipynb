{
 "cells": [
  {
   "cell_type": "code",
   "execution_count": 1,
   "metadata": {},
   "outputs": [],
   "source": [
    "import pandas as pd\n",
    "import numpy as np"
   ]
  },
  {
   "cell_type": "code",
   "execution_count": 2,
   "metadata": {},
   "outputs": [
    {
     "name": "stderr",
     "output_type": "stream",
     "text": [
      "/tmp/ipykernel_11096/2104614329.py:12: DtypeWarning: Columns (0) have mixed types. Specify dtype option on import or set low_memory=False.\n",
      "  source_2_1 = pd.read_csv('../dataset/source_2_1.csv',delimiter=';')\n"
     ]
    }
   ],
   "source": [
    "source_1_1 = pd.read_csv('../dataset/source_1_1.csv')\n",
    "source_1_1['excel'] = 'source_1_1'\n",
    "source_1_2 = pd.read_csv('../dataset/source_1_2.csv')\n",
    "source_1_2['excel'] = 'source_1_2'\n",
    "source_1_3 = pd.read_csv('../dataset/source_1_3.csv')\n",
    "source_1_3['excel'] = 'source_1_3'\n",
    "source_1_4 = pd.read_csv('../dataset/source_1_4.csv')\n",
    "source_1_4['excel'] = 'source_1_4'\n",
    "source_1_5 = pd.read_csv('../dataset/source_1_5.csv')\n",
    "source_1_5['excel'] = 'source_1_5'\n",
    "\n",
    "source_2_1 = pd.read_csv('../dataset/source_2_1.csv',delimiter=';')\n",
    "people_df = source_2_1[['nombre','sexo_id']].rename(columns={\"nombre\": \"name\", \"sexo_id\": \"gender\"})\n",
    "people_df[\"gender\"] = people_df[\"gender\"].apply(lambda x: 'F' if x == 1.0 else 'M' if x == 2.0 else '?')\n",
    "people_df = people_df[people_df[\"gender\"]!='?']\n",
    "people_df['code'] = 'ES'\n",
    "people_df['excel'] = 'people_df'"
   ]
  },
  {
   "cell_type": "code",
   "execution_count": 3,
   "metadata": {},
   "outputs": [
    {
     "ename": "",
     "evalue": "",
     "output_type": "error",
     "traceback": [
      "\u001b[1;31mThe Kernel crashed while executing code in the current cell or a previous cell. \n",
      "\u001b[1;31mPlease review the code in the cell(s) to identify a possible cause of the failure. \n",
      "\u001b[1;31mClick <a href='https://aka.ms/vscodeJupyterKernelCrash'>here</a> for more info. \n",
      "\u001b[1;31mView Jupyter <a href='command:jupyter.viewOutput'>log</a> for further details."
     ]
    }
   ],
   "source": [
    "df = pd.concat([source_1_1,source_1_2,source_1_3,source_1_4,source_1_5,people_df], ignore_index=True, sort=False)"
   ]
  },
  {
   "cell_type": "code",
   "execution_count": 4,
   "metadata": {},
   "outputs": [],
   "source": [
    "# Define the regex pattern to identify non-letter characters\n",
    "pattern = r'[^a-zA-ZáéíóúÁÉÍÓÚñÑ ]'\n",
    "\n",
    "# Filter the DataFrame to keep only rows without non-letter characters, handling NaN values\n",
    "df = df[df['name'].notna()]\n",
    "\n",
    "df = df[\n",
    "    (df['code'].isin(['ES', 'CO', 'PE', 'CL'])) &\n",
    "    (df['name'] != '') &    # Ensure 'name' is not an empty string\n",
    "    (~df['name'].str.contains(pattern))  # Apply regex pattern\n",
    "]\n",
    "\n",
    "# Drop duplicates and reset index\n",
    "df['name'] = df['name'].str.lower()\n",
    "df = df[['name','gender','excel']].drop_duplicates(subset=['name','gender']).reset_index(drop=True)\n",
    "df = df.sort_values(by=['gender', 'name'])"
   ]
  },
  {
   "cell_type": "code",
   "execution_count": 129,
   "metadata": {},
   "outputs": [],
   "source": [
    "df.to_csv('spanish names db.csv', index=False)"
   ]
  }
 ],
 "metadata": {
  "kernelspec": {
   "display_name": "pabuc2",
   "language": "python",
   "name": "python3"
  },
  "language_info": {
   "codemirror_mode": {
    "name": "ipython",
    "version": 3
   },
   "file_extension": ".py",
   "mimetype": "text/x-python",
   "name": "python",
   "nbconvert_exporter": "python",
   "pygments_lexer": "ipython3",
   "version": "3.11.9"
  }
 },
 "nbformat": 4,
 "nbformat_minor": 2
}
