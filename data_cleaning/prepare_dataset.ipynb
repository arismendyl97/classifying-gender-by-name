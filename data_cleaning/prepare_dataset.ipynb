{
 "cells": [
  {
   "cell_type": "code",
   "execution_count": 125,
   "metadata": {},
   "outputs": [],
   "source": [
    "import pandas as pd\n",
    "import numpy as np"
   ]
  },
  {
   "cell_type": "code",
   "execution_count": 126,
   "metadata": {},
   "outputs": [],
   "source": [
    "d1 = pd.read_csv('../dataset/d1.csv')\n",
    "d1['excel'] = 'd1'\n",
    "d2_1 = pd.read_csv('../dataset/d2_1.csv')\n",
    "d2_1['excel'] = 'd2_1'\n",
    "d2_2 = pd.read_csv('../dataset/d2_2.csv')\n",
    "d2_2['excel'] = 'd2_2'\n",
    "d2_3 = pd.read_csv('../dataset/d2_3.csv')\n",
    "d2_3['excel'] = 'd2_3'\n",
    "d3 = pd.read_csv('../dataset/d3.csv')\n",
    "d3['excel'] = 'd3'\n",
    "\n",
    "personas = pd.read_csv('../dataset/personas.csv',delimiter=';')\n",
    "people_df = personas[['nombre','sexo_id']].rename(columns={\"nombre\": \"name\", \"sexo_id\": \"gender\"})\n",
    "people_df[\"gender\"] = people_df[\"gender\"].apply(lambda x: 'F' if x == 1.0 else 'M' if x == 2.0 else '?')\n",
    "people_df = people_df[people_df[\"gender\"]!='?']\n",
    "people_df['code'] = 'ES'\n",
    "people_df['excel'] = 'people_df'"
   ]
  },
  {
   "cell_type": "code",
   "execution_count": 127,
   "metadata": {},
   "outputs": [],
   "source": [
    "df = pd.concat([d1,d2_1,d2_2,d2_3,d3,people_df], ignore_index=True, sort=False)"
   ]
  },
  {
   "cell_type": "code",
   "execution_count": 128,
   "metadata": {},
   "outputs": [],
   "source": [
    "# Define the regex pattern to identify non-letter characters\n",
    "pattern = r'[^a-zA-ZáéíóúÁÉÍÓÚñÑ ]'\n",
    "\n",
    "# Filter the DataFrame to keep only rows without non-letter characters, handling NaN values\n",
    "df = df[df['name'].notna()]\n",
    "\n",
    "df = df[\n",
    "    (df['code'].isin(['ES', 'CO', 'PE', 'CL'])) &\n",
    "    (df['name'] != '') &    # Ensure 'name' is not an empty string\n",
    "    (~df['name'].str.contains(pattern))  # Apply regex pattern\n",
    "]\n",
    "\n",
    "# Drop duplicates and reset index\n",
    "df['name'] = df['name'].str.lower()\n",
    "df = df[['name','gender','excel']].drop_duplicates(subset=['name','gender']).reset_index(drop=True)\n",
    "df = df.sort_values(by=['gender', 'name'])"
   ]
  },
  {
   "cell_type": "code",
   "execution_count": 129,
   "metadata": {},
   "outputs": [],
   "source": [
    "df.to_csv('spanish names db.csv', index=False)"
   ]
  }
 ],
 "metadata": {
  "kernelspec": {
   "display_name": "pabuc2",
   "language": "python",
   "name": "python3"
  },
  "language_info": {
   "codemirror_mode": {
    "name": "ipython",
    "version": 3
   },
   "file_extension": ".py",
   "mimetype": "text/x-python",
   "name": "python",
   "nbconvert_exporter": "python",
   "pygments_lexer": "ipython3",
   "version": "3.7.13"
  }
 },
 "nbformat": 4,
 "nbformat_minor": 2
}
