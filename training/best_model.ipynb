{
 "cells": [
  {
   "cell_type": "code",
   "execution_count": 1,
   "metadata": {},
   "outputs": [
    {
     "name": "stderr",
     "output_type": "stream",
     "text": [
      "2024-08-02 23:47:37.284125: I external/local_xla/xla/tsl/cuda/cudart_stub.cc:32] Could not find cuda drivers on your machine, GPU will not be used.\n",
      "2024-08-02 23:47:37.287104: I external/local_xla/xla/tsl/cuda/cudart_stub.cc:32] Could not find cuda drivers on your machine, GPU will not be used.\n",
      "2024-08-02 23:47:37.295809: E external/local_xla/xla/stream_executor/cuda/cuda_fft.cc:485] Unable to register cuFFT factory: Attempting to register factory for plugin cuFFT when one has already been registered\n",
      "2024-08-02 23:47:37.309651: E external/local_xla/xla/stream_executor/cuda/cuda_dnn.cc:8454] Unable to register cuDNN factory: Attempting to register factory for plugin cuDNN when one has already been registered\n",
      "2024-08-02 23:47:37.313793: E external/local_xla/xla/stream_executor/cuda/cuda_blas.cc:1452] Unable to register cuBLAS factory: Attempting to register factory for plugin cuBLAS when one has already been registered\n",
      "2024-08-02 23:47:37.324653: I tensorflow/core/platform/cpu_feature_guard.cc:210] This TensorFlow binary is optimized to use available CPU instructions in performance-critical operations.\n",
      "To enable the following instructions: AVX2 FMA, in other operations, rebuild TensorFlow with the appropriate compiler flags.\n",
      "2024-08-02 23:47:38.215556: W tensorflow/compiler/tf2tensorrt/utils/py_utils.cc:38] TF-TRT Warning: Could not find TensorRT\n"
     ]
    }
   ],
   "source": [
    "from mlflow.tracking import MlflowClient\n",
    "import mlflow.keras\n",
    "import pickle\n",
    "\n",
    "from tensorflow.keras.preprocessing.text import Tokenizer\n",
    "from tensorflow.keras.preprocessing.sequence import pad_sequences"
   ]
  },
  {
   "cell_type": "code",
   "execution_count": 2,
   "metadata": {},
   "outputs": [
    {
     "name": "stdout",
     "output_type": "stream",
     "text": [
      "Best run ID: dc162f5dff4a4a8b89172483b10a1e58\n",
      "Best test accuracy: 0.944313645362854\n",
      "Best parameters:\n",
      "  optimizer_global_clipnorm: None\n",
      "  initial_epoch: 0\n",
      "  optimizer_beta_2: 0.999\n",
      "  optimizer_use_ema: False\n",
      "  sample_weight: None\n",
      "  validation_freq: 1\n",
      "  batch_size: 32\n",
      "  optimizer_name: adam\n",
      "  steps_per_epoch: None\n",
      "  optimizer_ema_momentum: 0.99\n",
      "  optimizer_clipnorm: None\n",
      "  validation_steps: None\n",
      "  embedding_dim: 256\n",
      "  optimizer_learning_rate: 0.0010000000474974513\n",
      "  validation_batch_size: None\n",
      "  lstm_units: 128\n",
      "  class_weight: None\n",
      "  shuffle: True\n",
      "  optimizer_weight_decay: None\n",
      "  optimizer_clipvalue: None\n",
      "  optimizer_loss_scale_factor: None\n",
      "  validation_split: 0.0\n",
      "  epochs: 10\n",
      "  dropout_rate: 0.3\n",
      "  optimizer_epsilon: 1e-07\n",
      "  optimizer_amsgrad: False\n",
      "  optimizer_ema_overwrite_frequency: None\n",
      "  optimizer_beta_1: 0.9\n",
      "  optimizer_gradient_accumulation_steps: None\n"
     ]
    }
   ],
   "source": [
    "# Set the experiment name (or ID)\n",
    "experiment_name = \"Default\"  # Replace with your experiment name\n",
    "\n",
    "# Initialize MLflow client\n",
    "client = MlflowClient()\n",
    "\n",
    "# Get the experiment\n",
    "experiment = client.get_experiment_by_name(experiment_name)\n",
    "experiment_id = experiment.experiment_id\n",
    "\n",
    "# Get all runs in the experiment\n",
    "runs = client.search_runs(experiment_ids=experiment_id)\n",
    "\n",
    "# Find the best run based on test accuracy\n",
    "best_run = None\n",
    "best_accuracy = -float(\"inf\")\n",
    "\n",
    "for run in runs:\n",
    "    metrics = run.data.metrics\n",
    "    if 'test_accuracy' in metrics and metrics['test_accuracy'] > best_accuracy:\n",
    "        best_accuracy = metrics['test_accuracy']\n",
    "        best_run = run\n",
    "\n",
    "if best_run:\n",
    "    print(f\"Best run ID: {best_run.info.run_id}\")\n",
    "    print(f\"Best test accuracy: {best_accuracy}\")\n",
    "    print(\"Best parameters:\")\n",
    "    for param in best_run.data.params:\n",
    "        print(f\"  {param}: {best_run.data.params[param]}\")\n",
    "else:\n",
    "    print(\"No runs found.\")"
   ]
  },
  {
   "cell_type": "code",
   "execution_count": 3,
   "metadata": {},
   "outputs": [
    {
     "name": "stdout",
     "output_type": "stream",
     "text": [
      "Model registered with name: GenderClassificationModel and version: 1\n"
     ]
    },
    {
     "name": "stderr",
     "output_type": "stream",
     "text": [
      "Successfully registered model 'GenderClassificationModel'.\n",
      "Created version '1' of model 'GenderClassificationModel'.\n"
     ]
    }
   ],
   "source": [
    "#Register the best model\n",
    "model_uri = f\"runs:/{best_run.info.run_id}/model\"\n",
    "model_name = \"GenderClassificationModel\"\n",
    "\n",
    "registered_model = mlflow.register_model(model_uri=model_uri, name=model_name)\n",
    "\n",
    "print(f\"Model registered with name: {model_name} and version: {registered_model.version}\")"
   ]
  },
  {
   "cell_type": "code",
   "execution_count": 6,
   "metadata": {},
   "outputs": [],
   "source": [
    "# Load the best model\n",
    "model_version = 1\n",
    "\n",
    "# Load the registered model\n",
    "best_model = mlflow.keras.load_model(model_uri=f\"models:/{model_name}/{model_version}\")\n",
    "\n",
    "with open('tokenizer_info.pickle', 'rb') as handle:\n",
    "    tokenizer_info = pickle.load(handle)\n",
    "\n",
    "tokenizer = tokenizer_info['tokenizer']\n",
    "max_sequence_length = tokenizer_info['max_sequence_length']"
   ]
  },
  {
   "cell_type": "code",
   "execution_count": 31,
   "metadata": {},
   "outputs": [
    {
     "name": "stdout",
     "output_type": "stream",
     "text": [
      "\u001b[1m1/1\u001b[0m \u001b[32m━━━━━━━━━━━━━━━━━━━━\u001b[0m\u001b[37m\u001b[0m \u001b[1m0s\u001b[0m 19ms/step\n",
      "The predicted gender for the name 'Federico' is Male.\n"
     ]
    }
   ],
   "source": [
    "# Function to preprocess input name\n",
    "def preprocess_name(name, tokenizer, max_sequence_length):\n",
    "    sequence = tokenizer.texts_to_sequences([name])\n",
    "    padded_sequence = pad_sequences(sequence, maxlen=max_sequence_length)\n",
    "    return padded_sequence\n",
    "\n",
    "# Example name to predict\n",
    "name_to_predict = \"Federico\"\n",
    "preprocessed_name = preprocess_name(name_to_predict, tokenizer, max_sequence_length)\n",
    "\n",
    "# Make a prediction\n",
    "prediction = best_model.predict(preprocessed_name)\n",
    "\n",
    "# Interpret the prediction\n",
    "gender = \"Female\" if prediction[0] > 0.5 else \"Male\"\n",
    "print(f\"The predicted gender for the name '{name_to_predict}' is {gender}.\")"
   ]
  }
 ],
 "metadata": {
  "kernelspec": {
   "display_name": "mlopsproject",
   "language": "python",
   "name": "python3"
  },
  "language_info": {
   "codemirror_mode": {
    "name": "ipython",
    "version": 3
   },
   "file_extension": ".py",
   "mimetype": "text/x-python",
   "name": "python",
   "nbconvert_exporter": "python",
   "pygments_lexer": "ipython3",
   "version": "3.11.9"
  }
 },
 "nbformat": 4,
 "nbformat_minor": 2
}
