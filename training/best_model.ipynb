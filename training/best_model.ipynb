{
 "cells": [
  {
   "cell_type": "code",
   "execution_count": 13,
   "metadata": {},
   "outputs": [],
   "source": [
    "from mlflow.tracking import MlflowClient\n",
    "import mlflow.keras\n",
    "import pickle\n",
    "\n",
    "from tensorflow.keras.preprocessing.text import Tokenizer\n",
    "from tensorflow.keras.preprocessing.sequence import pad_sequences"
   ]
  },
  {
   "cell_type": "code",
   "execution_count": 14,
   "metadata": {},
   "outputs": [
    {
     "name": "stdout",
     "output_type": "stream",
     "text": [
      "Best run ID: d57c3e774625460da4363f633dc8a0c4\n",
      "Best test accuracy: 0.9430780410766602\n",
      "Best parameters:\n",
      "  optimizer_global_clipnorm: None\n",
      "  initial_epoch: 0\n",
      "  optimizer_beta_2: 0.999\n",
      "  optimizer_use_ema: False\n",
      "  sample_weight: None\n",
      "  validation_freq: 1\n",
      "  batch_size: 32\n",
      "  optimizer_name: adam\n",
      "  steps_per_epoch: None\n",
      "  optimizer_ema_momentum: 0.99\n",
      "  optimizer_clipnorm: None\n",
      "  validation_steps: None\n",
      "  embedding_dim: 256\n",
      "  optimizer_learning_rate: 0.0010000000474974513\n",
      "  validation_batch_size: None\n",
      "  lstm_units: 128\n",
      "  class_weight: None\n",
      "  shuffle: True\n",
      "  optimizer_weight_decay: None\n",
      "  optimizer_clipvalue: None\n",
      "  optimizer_loss_scale_factor: None\n",
      "  validation_split: 0.0\n",
      "  epochs: 10\n",
      "  dropout_rate: 0.3\n",
      "  optimizer_epsilon: 1e-07\n",
      "  optimizer_amsgrad: False\n",
      "  optimizer_ema_overwrite_frequency: None\n",
      "  optimizer_beta_1: 0.9\n",
      "  optimizer_gradient_accumulation_steps: None\n"
     ]
    }
   ],
   "source": [
    "# Set the experiment name (or ID)\n",
    "experiment_name = \"Default\"  # Replace with your experiment name\n",
    "\n",
    "# Initialize MLflow client\n",
    "client = MlflowClient()\n",
    "\n",
    "# Get the experiment\n",
    "experiment = client.get_experiment_by_name(experiment_name)\n",
    "experiment_id = experiment.experiment_id\n",
    "\n",
    "# Get all runs in the experiment\n",
    "runs = client.search_runs(experiment_ids=experiment_id)\n",
    "\n",
    "# Find the best run based on test accuracy\n",
    "best_run = None\n",
    "best_accuracy = -float(\"inf\")\n",
    "\n",
    "for run in runs:\n",
    "    metrics = run.data.metrics\n",
    "    if 'test_accuracy' in metrics and metrics['test_accuracy'] > best_accuracy:\n",
    "        best_accuracy = metrics['test_accuracy']\n",
    "        best_run = run\n",
    "\n",
    "if best_run:\n",
    "    print(f\"Best run ID: {best_run.info.run_id}\")\n",
    "    print(f\"Best test accuracy: {best_accuracy}\")\n",
    "    print(\"Best parameters:\")\n",
    "    for param in best_run.data.params:\n",
    "        print(f\"  {param}: {best_run.data.params[param]}\")\n",
    "else:\n",
    "    print(\"No runs found.\")"
   ]
  },
  {
   "cell_type": "code",
   "execution_count": 15,
   "metadata": {},
   "outputs": [],
   "source": [
    "# Load the best model\n",
    "best_model = mlflow.keras.load_model(f\"runs:/{best_run.info.run_id}/model\")\n",
    "\n",
    "with open('tokenizer_info.pickle', 'rb') as handle:\n",
    "    tokenizer_info = pickle.load(handle)\n",
    "\n",
    "tokenizer = tokenizer_info['tokenizer']\n",
    "max_sequence_length = tokenizer_info['max_sequence_length']"
   ]
  },
  {
   "cell_type": "code",
   "execution_count": 18,
   "metadata": {},
   "outputs": [
    {
     "name": "stdout",
     "output_type": "stream",
     "text": [
      "\u001b[1m1/1\u001b[0m \u001b[32m━━━━━━━━━━━━━━━━━━━━\u001b[0m\u001b[37m\u001b[0m \u001b[1m0s\u001b[0m 14ms/step\n",
      "The predicted gender for the name 'Martín' is Male.\n"
     ]
    }
   ],
   "source": [
    "# Function to preprocess input name\n",
    "def preprocess_name(name, tokenizer, max_sequence_length):\n",
    "    sequence = tokenizer.texts_to_sequences([name])\n",
    "    padded_sequence = pad_sequences(sequence, maxlen=max_sequence_length)\n",
    "    return padded_sequence\n",
    "\n",
    "# Example name to predict\n",
    "name_to_predict = \"Martín\"\n",
    "preprocessed_name = preprocess_name(name_to_predict, tokenizer, max_sequence_length)\n",
    "\n",
    "# Make a prediction\n",
    "prediction = best_model.predict(preprocessed_name)\n",
    "\n",
    "# Interpret the prediction\n",
    "gender = \"Female\" if prediction[0] > 0.5 else \"Male\"\n",
    "print(f\"The predicted gender for the name '{name_to_predict}' is {gender}.\")"
   ]
  }
 ],
 "metadata": {
  "kernelspec": {
   "display_name": "mlopsproject",
   "language": "python",
   "name": "python3"
  },
  "language_info": {
   "codemirror_mode": {
    "name": "ipython",
    "version": 3
   },
   "file_extension": ".py",
   "mimetype": "text/x-python",
   "name": "python",
   "nbconvert_exporter": "python",
   "pygments_lexer": "ipython3",
   "version": "3.11.9"
  }
 },
 "nbformat": 4,
 "nbformat_minor": 2
}
