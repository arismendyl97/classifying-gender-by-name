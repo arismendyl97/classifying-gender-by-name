{
 "cells": [
  {
   "cell_type": "code",
   "execution_count": 1,
   "metadata": {},
   "outputs": [
    {
     "name": "stderr",
     "output_type": "stream",
     "text": [
      "2024-08-02 23:19:47.757035: I external/local_xla/xla/tsl/cuda/cudart_stub.cc:32] Could not find cuda drivers on your machine, GPU will not be used.\n",
      "2024-08-02 23:19:48.757809: I external/local_xla/xla/tsl/cuda/cudart_stub.cc:32] Could not find cuda drivers on your machine, GPU will not be used.\n",
      "2024-08-02 23:19:49.029535: E external/local_xla/xla/stream_executor/cuda/cuda_fft.cc:485] Unable to register cuFFT factory: Attempting to register factory for plugin cuFFT when one has already been registered\n",
      "2024-08-02 23:19:49.647716: E external/local_xla/xla/stream_executor/cuda/cuda_dnn.cc:8454] Unable to register cuDNN factory: Attempting to register factory for plugin cuDNN when one has already been registered\n",
      "2024-08-02 23:19:49.803956: E external/local_xla/xla/stream_executor/cuda/cuda_blas.cc:1452] Unable to register cuBLAS factory: Attempting to register factory for plugin cuBLAS when one has already been registered\n",
      "2024-08-02 23:19:51.429817: I tensorflow/core/platform/cpu_feature_guard.cc:210] This TensorFlow binary is optimized to use available CPU instructions in performance-critical operations.\n",
      "To enable the following instructions: AVX2 FMA, in other operations, rebuild TensorFlow with the appropriate compiler flags.\n",
      "2024-08-02 23:19:54.569159: W tensorflow/compiler/tf2tensorrt/utils/py_utils.cc:38] TF-TRT Warning: Could not find TensorRT\n"
     ]
    }
   ],
   "source": [
    "import pandas as pd\n",
    "import numpy as np\n",
    "from sklearn.model_selection import train_test_split\n",
    "from tensorflow.keras.preprocessing.text import Tokenizer\n",
    "from tensorflow.keras.preprocessing.sequence import pad_sequences\n",
    "from tensorflow.keras.models import Sequential\n",
    "from tensorflow.keras.layers import Embedding, LSTM, Dense, Dropout\n",
    "\n",
    "import mlflow\n",
    "import mlflow.keras\n",
    "\n",
    "\n",
    "import pickle"
   ]
  },
  {
   "cell_type": "code",
   "execution_count": 2,
   "metadata": {},
   "outputs": [],
   "source": [
    "def create_model(embedding_dim=128, lstm_units=64, dropout_rate=0.5):\n",
    "    model = Sequential()\n",
    "    model.add(Embedding(input_dim=len(tokenizer.word_index) + 1, output_dim=embedding_dim, input_length=max_sequence_length))\n",
    "    model.add(LSTM(units=lstm_units))\n",
    "    model.add(Dropout(rate=dropout_rate))\n",
    "    model.add(Dense(1, activation='sigmoid'))\n",
    "    \n",
    "    model.compile(optimizer='adam', loss='binary_crossentropy', metrics=['accuracy'])\n",
    "    return model"
   ]
  },
  {
   "cell_type": "code",
   "execution_count": 3,
   "metadata": {},
   "outputs": [],
   "source": [
    "seed = 42\n",
    "\n",
    "# Load dataset\n",
    "trainingDf = pd.read_csv('../data_cleaning/spanish names db - training.csv')\n",
    "validationDf = pd.read_csv('../data_cleaning/spanish names db - validation.csv')\n",
    "testingDf = pd.read_csv('../data_cleaning/spanish names db - testing.csv')"
   ]
  },
  {
   "cell_type": "code",
   "execution_count": 4,
   "metadata": {},
   "outputs": [],
   "source": [
    "X_train = trainingDf['name']\n",
    "y_train = trainingDf['gender']\n",
    "\n",
    "X_val = validationDf['name']\n",
    "y_val = validationDf['gender']\n",
    "\n",
    "X_test = testingDf['name']\n",
    "y_test  = testingDf['gender']"
   ]
  },
  {
   "cell_type": "code",
   "execution_count": 5,
   "metadata": {},
   "outputs": [],
   "source": [
    "# Tokenize names using only the training data\n",
    "tokenizer = Tokenizer(char_level=True, lower=True)\n",
    "tokenizer.fit_on_texts(X_train)\n",
    "\n",
    "# Convert names to sequences\n",
    "train_sequences = tokenizer.texts_to_sequences(X_train)\n",
    "val_sequences = tokenizer.texts_to_sequences(X_val)\n",
    "test_sequences = tokenizer.texts_to_sequences(X_test)\n",
    "\n",
    "# Determine the maximum sequence length from the training data\n",
    "max_sequence_length = max(len(seq) for seq in train_sequences)\n",
    "\n",
    "# Pad sequences to the same length\n",
    "X_train_padded = pad_sequences(train_sequences, maxlen=max_sequence_length)\n",
    "X_val_padded = pad_sequences(val_sequences, maxlen=max_sequence_length)\n",
    "X_test_padded = pad_sequences(test_sequences, maxlen=max_sequence_length)\n",
    "\n",
    "# Save tokenizer\n",
    "tokenizer_info = {\n",
    "    'tokenizer': tokenizer,\n",
    "    'max_sequence_length': max_sequence_length\n",
    "}\n",
    "\n",
    "with open('tokenizer_info.pickle', 'wb') as handle:\n",
    "    pickle.dump(tokenizer_info, handle, protocol=pickle.HIGHEST_PROTOCOL)"
   ]
  },
  {
   "cell_type": "code",
   "execution_count": 7,
   "metadata": {},
   "outputs": [
    {
     "name": "stderr",
     "output_type": "stream",
     "text": [
      "/opt/conda/envs/mlopsproject/lib/python3.11/site-packages/keras/src/layers/core/embedding.py:90: UserWarning: Argument `input_length` is deprecated. Just remove it.\n",
      "  warnings.warn(\n",
      "2024/08/02 23:24:58 WARNING mlflow.keras.autologging: Failed to log dataset information to MLflow. Reason: 'Series' object has no attribute 'flatten'\n"
     ]
    },
    {
     "data": {
      "text/html": [
       "<pre style=\"white-space:pre;overflow-x:auto;line-height:normal;font-family:Menlo,'DejaVu Sans Mono',consolas,'Courier New',monospace\"></pre>\n"
      ],
      "text/plain": []
     },
     "metadata": {},
     "output_type": "display_data"
    },
    {
     "name": "stdout",
     "output_type": "stream",
     "text": [
      "Epoch 1/10\n",
      "\u001b[1m1797/1797\u001b[0m \u001b[32m━━━━━━━━━━━━━━━━━━━━\u001b[0m\u001b[37m\u001b[0m \u001b[1m49s\u001b[0m 26ms/step - accuracy: 0.8614 - loss: 0.3059 - val_accuracy: 0.9204 - val_loss: 0.1810\n",
      "Epoch 2/10\n",
      "\u001b[1m1797/1797\u001b[0m \u001b[32m━━━━━━━━━━━━━━━━━━━━\u001b[0m\u001b[37m\u001b[0m \u001b[1m80s\u001b[0m 25ms/step - accuracy: 0.9233 - loss: 0.1845 - val_accuracy: 0.9328 - val_loss: 0.1557\n",
      "Epoch 3/10\n",
      "\u001b[1m1797/1797\u001b[0m \u001b[32m━━━━━━━━━━━━━━━━━━━━\u001b[0m\u001b[37m\u001b[0m \u001b[1m41s\u001b[0m 23ms/step - accuracy: 0.9330 - loss: 0.1575 - val_accuracy: 0.9419 - val_loss: 0.1447\n",
      "Epoch 4/10\n",
      "\u001b[1m1797/1797\u001b[0m \u001b[32m━━━━━━━━━━━━━━━━━━━━\u001b[0m\u001b[37m\u001b[0m \u001b[1m39s\u001b[0m 22ms/step - accuracy: 0.9410 - loss: 0.1427 - val_accuracy: 0.9406 - val_loss: 0.1404\n",
      "Epoch 5/10\n",
      "\u001b[1m1797/1797\u001b[0m \u001b[32m━━━━━━━━━━━━━━━━━━━━\u001b[0m\u001b[37m\u001b[0m \u001b[1m41s\u001b[0m 22ms/step - accuracy: 0.9474 - loss: 0.1292 - val_accuracy: 0.9441 - val_loss: 0.1311\n",
      "Epoch 6/10\n",
      "\u001b[1m1797/1797\u001b[0m \u001b[32m━━━━━━━━━━━━━━━━━━━━\u001b[0m\u001b[37m\u001b[0m \u001b[1m41s\u001b[0m 23ms/step - accuracy: 0.9514 - loss: 0.1210 - val_accuracy: 0.9473 - val_loss: 0.1297\n",
      "Epoch 7/10\n",
      "\u001b[1m1797/1797\u001b[0m \u001b[32m━━━━━━━━━━━━━━━━━━━━\u001b[0m\u001b[37m\u001b[0m \u001b[1m81s\u001b[0m 22ms/step - accuracy: 0.9542 - loss: 0.1142 - val_accuracy: 0.9475 - val_loss: 0.1286\n",
      "Epoch 8/10\n",
      "\u001b[1m1797/1797\u001b[0m \u001b[32m━━━━━━━━━━━━━━━━━━━━\u001b[0m\u001b[37m\u001b[0m \u001b[1m41s\u001b[0m 23ms/step - accuracy: 0.9587 - loss: 0.1054 - val_accuracy: 0.9475 - val_loss: 0.1292\n",
      "Epoch 9/10\n",
      "\u001b[1m1797/1797\u001b[0m \u001b[32m━━━━━━━━━━━━━━━━━━━━\u001b[0m\u001b[37m\u001b[0m \u001b[1m41s\u001b[0m 23ms/step - accuracy: 0.9615 - loss: 0.0980 - val_accuracy: 0.9480 - val_loss: 0.1297\n",
      "Epoch 10/10\n",
      "\u001b[1m1797/1797\u001b[0m \u001b[32m━━━━━━━━━━━━━━━━━━━━\u001b[0m\u001b[37m\u001b[0m \u001b[1m39s\u001b[0m 22ms/step - accuracy: 0.9652 - loss: 0.0899 - val_accuracy: 0.9500 - val_loss: 0.1285\n"
     ]
    },
    {
     "name": "stderr",
     "output_type": "stream",
     "text": [
      "2024/08/02 23:33:17 WARNING mlflow.utils.autologging_utils: MLflow autologging encountered a warning: \"/opt/conda/envs/mlopsproject/lib/python3.11/site-packages/_distutils_hack/__init__.py:26: UserWarning: Setuptools is replacing distutils.\"\n"
     ]
    },
    {
     "name": "stdout",
     "output_type": "stream",
     "text": [
      "\u001b[1m385/385\u001b[0m \u001b[32m━━━━━━━━━━━━━━━━━━━━\u001b[0m\u001b[37m\u001b[0m \u001b[1m2s\u001b[0m 6ms/step - accuracy: 0.9456 - loss: 0.1453\n"
     ]
    },
    {
     "name": "stderr",
     "output_type": "stream",
     "text": [
      "2024/08/02 23:33:20 WARNING mlflow.keras.autologging: Failed to log dataset information to MLflow. Reason: 'Series' object has no attribute 'flatten'\n"
     ]
    },
    {
     "data": {
      "text/html": [
       "<pre style=\"white-space:pre;overflow-x:auto;line-height:normal;font-family:Menlo,'DejaVu Sans Mono',consolas,'Courier New',monospace\"></pre>\n"
      ],
      "text/plain": []
     },
     "metadata": {},
     "output_type": "display_data"
    },
    {
     "name": "stdout",
     "output_type": "stream",
     "text": [
      "Epoch 1/10\n",
      "\u001b[1m1797/1797\u001b[0m \u001b[32m━━━━━━━━━━━━━━━━━━━━\u001b[0m\u001b[37m\u001b[0m \u001b[1m17s\u001b[0m 8ms/step - accuracy: 0.8419 - loss: 0.3350 - val_accuracy: 0.9170 - val_loss: 0.1946\n",
      "Epoch 2/10\n",
      "\u001b[1m1797/1797\u001b[0m \u001b[32m━━━━━━━━━━━━━━━━━━━━\u001b[0m\u001b[37m\u001b[0m \u001b[1m15s\u001b[0m 8ms/step - accuracy: 0.9128 - loss: 0.2039 - val_accuracy: 0.9240 - val_loss: 0.1732\n",
      "Epoch 3/10\n",
      "\u001b[1m1797/1797\u001b[0m \u001b[32m━━━━━━━━━━━━━━━━━━━━\u001b[0m\u001b[37m\u001b[0m \u001b[1m15s\u001b[0m 8ms/step - accuracy: 0.9236 - loss: 0.1809 - val_accuracy: 0.9324 - val_loss: 0.1600\n",
      "Epoch 4/10\n",
      "\u001b[1m1797/1797\u001b[0m \u001b[32m━━━━━━━━━━━━━━━━━━━━\u001b[0m\u001b[37m\u001b[0m \u001b[1m18s\u001b[0m 10ms/step - accuracy: 0.9288 - loss: 0.1691 - val_accuracy: 0.9334 - val_loss: 0.1499\n",
      "Epoch 5/10\n",
      "\u001b[1m1797/1797\u001b[0m \u001b[32m━━━━━━━━━━━━━━━━━━━━\u001b[0m\u001b[37m\u001b[0m \u001b[1m15s\u001b[0m 8ms/step - accuracy: 0.9334 - loss: 0.1582 - val_accuracy: 0.9383 - val_loss: 0.1460\n",
      "Epoch 6/10\n",
      "\u001b[1m1797/1797\u001b[0m \u001b[32m━━━━━━━━━━━━━━━━━━━━\u001b[0m\u001b[37m\u001b[0m \u001b[1m15s\u001b[0m 8ms/step - accuracy: 0.9360 - loss: 0.1518 - val_accuracy: 0.9419 - val_loss: 0.1407\n",
      "Epoch 7/10\n",
      "\u001b[1m1797/1797\u001b[0m \u001b[32m━━━━━━━━━━━━━━━━━━━━\u001b[0m\u001b[37m\u001b[0m \u001b[1m15s\u001b[0m 8ms/step - accuracy: 0.9425 - loss: 0.1408 - val_accuracy: 0.9428 - val_loss: 0.1385\n",
      "Epoch 8/10\n",
      "\u001b[1m1797/1797\u001b[0m \u001b[32m━━━━━━━━━━━━━━━━━━━━\u001b[0m\u001b[37m\u001b[0m \u001b[1m16s\u001b[0m 9ms/step - accuracy: 0.9436 - loss: 0.1383 - val_accuracy: 0.9447 - val_loss: 0.1341\n",
      "Epoch 9/10\n",
      "\u001b[1m1797/1797\u001b[0m \u001b[32m━━━━━━━━━━━━━━━━━━━━\u001b[0m\u001b[37m\u001b[0m \u001b[1m15s\u001b[0m 8ms/step - accuracy: 0.9457 - loss: 0.1319 - val_accuracy: 0.9467 - val_loss: 0.1331\n",
      "Epoch 10/10\n",
      "\u001b[1m1797/1797\u001b[0m \u001b[32m━━━━━━━━━━━━━━━━━━━━\u001b[0m\u001b[37m\u001b[0m \u001b[1m14s\u001b[0m 8ms/step - accuracy: 0.9455 - loss: 0.1340 - val_accuracy: 0.9467 - val_loss: 0.1302\n",
      "\u001b[1m385/385\u001b[0m \u001b[32m━━━━━━━━━━━━━━━━━━━━\u001b[0m\u001b[37m\u001b[0m \u001b[1m1s\u001b[0m 2ms/step - accuracy: 0.9434 - loss: 0.1413\n"
     ]
    },
    {
     "name": "stderr",
     "output_type": "stream",
     "text": [
      "2024/08/02 23:35:57 WARNING mlflow.keras.autologging: Failed to log dataset information to MLflow. Reason: 'Series' object has no attribute 'flatten'\n"
     ]
    },
    {
     "data": {
      "text/html": [
       "<pre style=\"white-space:pre;overflow-x:auto;line-height:normal;font-family:Menlo,'DejaVu Sans Mono',consolas,'Courier New',monospace\"></pre>\n"
      ],
      "text/plain": []
     },
     "metadata": {},
     "output_type": "display_data"
    },
    {
     "name": "stdout",
     "output_type": "stream",
     "text": [
      "Epoch 1/10\n",
      "\u001b[1m1797/1797\u001b[0m \u001b[32m━━━━━━━━━━━━━━━━━━━━\u001b[0m\u001b[37m\u001b[0m \u001b[1m13s\u001b[0m 6ms/step - accuracy: 0.8354 - loss: 0.3693 - val_accuracy: 0.9087 - val_loss: 0.2053\n",
      "Epoch 2/10\n",
      "\u001b[1m1797/1797\u001b[0m \u001b[32m━━━━━━━━━━━━━━━━━━━━\u001b[0m\u001b[37m\u001b[0m \u001b[1m23s\u001b[0m 7ms/step - accuracy: 0.9062 - loss: 0.2168 - val_accuracy: 0.9209 - val_loss: 0.1864\n",
      "Epoch 3/10\n",
      "\u001b[1m1797/1797\u001b[0m \u001b[32m━━━━━━━━━━━━━━━━━━━━\u001b[0m\u001b[37m\u001b[0m \u001b[1m11s\u001b[0m 6ms/step - accuracy: 0.9185 - loss: 0.1937 - val_accuracy: 0.9238 - val_loss: 0.1729\n",
      "Epoch 4/10\n",
      "\u001b[1m1797/1797\u001b[0m \u001b[32m━━━━━━━━━━━━━━━━━━━━\u001b[0m\u001b[37m\u001b[0m \u001b[1m11s\u001b[0m 6ms/step - accuracy: 0.9226 - loss: 0.1834 - val_accuracy: 0.9280 - val_loss: 0.1642\n",
      "Epoch 5/10\n",
      "\u001b[1m1797/1797\u001b[0m \u001b[32m━━━━━━━━━━━━━━━━━━━━\u001b[0m\u001b[37m\u001b[0m \u001b[1m11s\u001b[0m 6ms/step - accuracy: 0.9284 - loss: 0.1737 - val_accuracy: 0.9321 - val_loss: 0.1597\n",
      "Epoch 6/10\n",
      "\u001b[1m1797/1797\u001b[0m \u001b[32m━━━━━━━━━━━━━━━━━━━━\u001b[0m\u001b[37m\u001b[0m \u001b[1m11s\u001b[0m 6ms/step - accuracy: 0.9316 - loss: 0.1644 - val_accuracy: 0.9315 - val_loss: 0.1608\n",
      "Epoch 7/10\n",
      "\u001b[1m1797/1797\u001b[0m \u001b[32m━━━━━━━━━━━━━━━━━━━━\u001b[0m\u001b[37m\u001b[0m \u001b[1m11s\u001b[0m 6ms/step - accuracy: 0.9327 - loss: 0.1615 - val_accuracy: 0.9369 - val_loss: 0.1495\n",
      "Epoch 8/10\n",
      "\u001b[1m1797/1797\u001b[0m \u001b[32m━━━━━━━━━━━━━━━━━━━━\u001b[0m\u001b[37m\u001b[0m \u001b[1m11s\u001b[0m 6ms/step - accuracy: 0.9353 - loss: 0.1577 - val_accuracy: 0.9364 - val_loss: 0.1492\n",
      "Epoch 9/10\n",
      "\u001b[1m1797/1797\u001b[0m \u001b[32m━━━━━━━━━━━━━━━━━━━━\u001b[0m\u001b[37m\u001b[0m \u001b[1m11s\u001b[0m 6ms/step - accuracy: 0.9372 - loss: 0.1545 - val_accuracy: 0.9368 - val_loss: 0.1492\n",
      "Epoch 10/10\n",
      "\u001b[1m1797/1797\u001b[0m \u001b[32m━━━━━━━━━━━━━━━━━━━━\u001b[0m\u001b[37m\u001b[0m \u001b[1m11s\u001b[0m 6ms/step - accuracy: 0.9384 - loss: 0.1497 - val_accuracy: 0.9383 - val_loss: 0.1502\n",
      "\u001b[1m385/385\u001b[0m \u001b[32m━━━━━━━━━━━━━━━━━━━━\u001b[0m\u001b[37m\u001b[0m \u001b[1m1s\u001b[0m 2ms/step - accuracy: 0.9341 - loss: 0.1521\n"
     ]
    },
    {
     "name": "stderr",
     "output_type": "stream",
     "text": [
      "2024/08/02 23:38:01 WARNING mlflow.keras.autologging: Failed to log dataset information to MLflow. Reason: 'Series' object has no attribute 'flatten'\n"
     ]
    },
    {
     "data": {
      "text/html": [
       "<pre style=\"white-space:pre;overflow-x:auto;line-height:normal;font-family:Menlo,'DejaVu Sans Mono',consolas,'Courier New',monospace\"></pre>\n"
      ],
      "text/plain": []
     },
     "metadata": {},
     "output_type": "display_data"
    },
    {
     "name": "stdout",
     "output_type": "stream",
     "text": [
      "Epoch 1/10\n",
      "\u001b[1m1797/1797\u001b[0m \u001b[32m━━━━━━━━━━━━━━━━━━━━\u001b[0m\u001b[37m\u001b[0m \u001b[1m13s\u001b[0m 6ms/step - accuracy: 0.8338 - loss: 0.3643 - val_accuracy: 0.9098 - val_loss: 0.2066\n",
      "Epoch 2/10\n",
      "\u001b[1m1797/1797\u001b[0m \u001b[32m━━━━━━━━━━━━━━━━━━━━\u001b[0m\u001b[37m\u001b[0m \u001b[1m20s\u001b[0m 6ms/step - accuracy: 0.9080 - loss: 0.2246 - val_accuracy: 0.9221 - val_loss: 0.1811\n",
      "Epoch 3/10\n",
      "\u001b[1m1797/1797\u001b[0m \u001b[32m━━━━━━━━━━━━━━━━━━━━\u001b[0m\u001b[37m\u001b[0m \u001b[1m11s\u001b[0m 6ms/step - accuracy: 0.9158 - loss: 0.2044 - val_accuracy: 0.9244 - val_loss: 0.1758\n",
      "Epoch 4/10\n",
      "\u001b[1m1797/1797\u001b[0m \u001b[32m━━━━━━━━━━━━━━━━━━━━\u001b[0m\u001b[37m\u001b[0m \u001b[1m11s\u001b[0m 6ms/step - accuracy: 0.9240 - loss: 0.1910 - val_accuracy: 0.9305 - val_loss: 0.1628\n",
      "Epoch 5/10\n",
      "\u001b[1m1797/1797\u001b[0m \u001b[32m━━━━━━━━━━━━━━━━━━━━\u001b[0m\u001b[37m\u001b[0m \u001b[1m11s\u001b[0m 6ms/step - accuracy: 0.9250 - loss: 0.1819 - val_accuracy: 0.9312 - val_loss: 0.1600\n",
      "Epoch 6/10\n",
      "\u001b[1m1797/1797\u001b[0m \u001b[32m━━━━━━━━━━━━━━━━━━━━\u001b[0m\u001b[37m\u001b[0m \u001b[1m11s\u001b[0m 6ms/step - accuracy: 0.9269 - loss: 0.1787 - val_accuracy: 0.9367 - val_loss: 0.1530\n",
      "Epoch 7/10\n",
      "\u001b[1m1797/1797\u001b[0m \u001b[32m━━━━━━━━━━━━━━━━━━━━\u001b[0m\u001b[37m\u001b[0m \u001b[1m12s\u001b[0m 7ms/step - accuracy: 0.9303 - loss: 0.1714 - val_accuracy: 0.9349 - val_loss: 0.1583\n",
      "Epoch 8/10\n",
      "\u001b[1m1797/1797\u001b[0m \u001b[32m━━━━━━━━━━━━━━━━━━━━\u001b[0m\u001b[37m\u001b[0m \u001b[1m11s\u001b[0m 6ms/step - accuracy: 0.9353 - loss: 0.1616 - val_accuracy: 0.9362 - val_loss: 0.1494\n",
      "Epoch 9/10\n",
      "\u001b[1m1797/1797\u001b[0m \u001b[32m━━━━━━━━━━━━━━━━━━━━\u001b[0m\u001b[37m\u001b[0m \u001b[1m11s\u001b[0m 6ms/step - accuracy: 0.9328 - loss: 0.1695 - val_accuracy: 0.9392 - val_loss: 0.1479\n",
      "Epoch 10/10\n",
      "\u001b[1m1797/1797\u001b[0m \u001b[32m━━━━━━━━━━━━━━━━━━━━\u001b[0m\u001b[37m\u001b[0m \u001b[1m11s\u001b[0m 6ms/step - accuracy: 0.9355 - loss: 0.1612 - val_accuracy: 0.9383 - val_loss: 0.1482\n",
      "\u001b[1m385/385\u001b[0m \u001b[32m━━━━━━━━━━━━━━━━━━━━\u001b[0m\u001b[37m\u001b[0m \u001b[1m1s\u001b[0m 2ms/step - accuracy: 0.9365 - loss: 0.1550\n"
     ]
    },
    {
     "name": "stderr",
     "output_type": "stream",
     "text": [
      "2024/08/02 23:40:05 WARNING mlflow.keras.autologging: Failed to log dataset information to MLflow. Reason: 'Series' object has no attribute 'flatten'\n"
     ]
    },
    {
     "data": {
      "text/html": [
       "<pre style=\"white-space:pre;overflow-x:auto;line-height:normal;font-family:Menlo,'DejaVu Sans Mono',consolas,'Courier New',monospace\"></pre>\n"
      ],
      "text/plain": []
     },
     "metadata": {},
     "output_type": "display_data"
    },
    {
     "name": "stdout",
     "output_type": "stream",
     "text": [
      "Epoch 1/10\n",
      "\u001b[1m1797/1797\u001b[0m \u001b[32m━━━━━━━━━━━━━━━━━━━━\u001b[0m\u001b[37m\u001b[0m \u001b[1m13s\u001b[0m 6ms/step - accuracy: 0.8299 - loss: 0.3600 - val_accuracy: 0.9122 - val_loss: 0.2012\n",
      "Epoch 2/10\n",
      "\u001b[1m1797/1797\u001b[0m \u001b[32m━━━━━━━━━━━━━━━━━━━━\u001b[0m\u001b[37m\u001b[0m \u001b[1m11s\u001b[0m 6ms/step - accuracy: 0.9090 - loss: 0.2126 - val_accuracy: 0.9211 - val_loss: 0.1850\n",
      "Epoch 3/10\n",
      "\u001b[1m1797/1797\u001b[0m \u001b[32m━━━━━━━━━━━━━━━━━━━━\u001b[0m\u001b[37m\u001b[0m \u001b[1m11s\u001b[0m 6ms/step - accuracy: 0.9188 - loss: 0.1914 - val_accuracy: 0.9261 - val_loss: 0.1738\n",
      "Epoch 4/10\n",
      "\u001b[1m1797/1797\u001b[0m \u001b[32m━━━━━━━━━━━━━━━━━━━━\u001b[0m\u001b[37m\u001b[0m \u001b[1m11s\u001b[0m 6ms/step - accuracy: 0.9242 - loss: 0.1779 - val_accuracy: 0.9296 - val_loss: 0.1635\n",
      "Epoch 5/10\n",
      "\u001b[1m1797/1797\u001b[0m \u001b[32m━━━━━━━━━━━━━━━━━━━━\u001b[0m\u001b[37m\u001b[0m \u001b[1m20s\u001b[0m 6ms/step - accuracy: 0.9301 - loss: 0.1681 - val_accuracy: 0.9341 - val_loss: 0.1552\n",
      "Epoch 6/10\n",
      "\u001b[1m1797/1797\u001b[0m \u001b[32m━━━━━━━━━━━━━━━━━━━━\u001b[0m\u001b[37m\u001b[0m \u001b[1m11s\u001b[0m 6ms/step - accuracy: 0.9335 - loss: 0.1596 - val_accuracy: 0.9343 - val_loss: 0.1535\n",
      "Epoch 7/10\n",
      "\u001b[1m1797/1797\u001b[0m \u001b[32m━━━━━━━━━━━━━━━━━━━━\u001b[0m\u001b[37m\u001b[0m \u001b[1m11s\u001b[0m 6ms/step - accuracy: 0.9340 - loss: 0.1576 - val_accuracy: 0.9346 - val_loss: 0.1569\n",
      "Epoch 8/10\n",
      "\u001b[1m1797/1797\u001b[0m \u001b[32m━━━━━━━━━━━━━━━━━━━━\u001b[0m\u001b[37m\u001b[0m \u001b[1m11s\u001b[0m 6ms/step - accuracy: 0.9397 - loss: 0.1510 - val_accuracy: 0.9372 - val_loss: 0.1499\n",
      "Epoch 9/10\n",
      "\u001b[1m1797/1797\u001b[0m \u001b[32m━━━━━━━━━━━━━━━━━━━━\u001b[0m\u001b[37m\u001b[0m \u001b[1m11s\u001b[0m 6ms/step - accuracy: 0.9383 - loss: 0.1491 - val_accuracy: 0.9378 - val_loss: 0.1486\n",
      "Epoch 10/10\n",
      "\u001b[1m1797/1797\u001b[0m \u001b[32m━━━━━━━━━━━━━━━━━━━━\u001b[0m\u001b[37m\u001b[0m \u001b[1m11s\u001b[0m 6ms/step - accuracy: 0.9421 - loss: 0.1411 - val_accuracy: 0.9412 - val_loss: 0.1423\n",
      "\u001b[1m385/385\u001b[0m \u001b[32m━━━━━━━━━━━━━━━━━━━━\u001b[0m\u001b[37m\u001b[0m \u001b[1m1s\u001b[0m 2ms/step - accuracy: 0.9369 - loss: 0.1476\n"
     ]
    }
   ],
   "source": [
    "from sklearn.model_selection import ParameterSampler\n",
    "\n",
    "param_distributions = {\n",
    "    'embedding_dim': [64, 128, 256],\n",
    "    'lstm_units': [32, 64, 128],\n",
    "    'dropout_rate': [0.3, 0.5, 0.7]\n",
    "}\n",
    "\n",
    "n_iter = 5\n",
    "param_list = list(ParameterSampler(param_distributions, n_iter=n_iter, random_state=seed))\n",
    "\n",
    "for params in param_list:\n",
    "    with mlflow.start_run():\n",
    "        model = create_model(**params)\n",
    "        model.fit(X_train_padded, y_train, validation_data=(X_val_padded, y_val), epochs=10, batch_size=32)\n",
    "\n",
    "        # Evaluate the model\n",
    "        loss, accuracy = model.evaluate(X_test_padded, y_test)\n",
    "        mlflow.log_metric('test_loss', loss)\n",
    "        mlflow.log_metric('test_accuracy', accuracy)\n",
    "\n",
    "        # Log hyperparameters\n",
    "        mlflow.log_params(params)\n"
   ]
  }
 ],
 "metadata": {
  "kernelspec": {
   "display_name": "mlopsproject",
   "language": "python",
   "name": "python3"
  },
  "language_info": {
   "codemirror_mode": {
    "name": "ipython",
    "version": 3
   },
   "file_extension": ".py",
   "mimetype": "text/x-python",
   "name": "python",
   "nbconvert_exporter": "python",
   "pygments_lexer": "ipython3",
   "version": "3.11.9"
  }
 },
 "nbformat": 4,
 "nbformat_minor": 2
}
