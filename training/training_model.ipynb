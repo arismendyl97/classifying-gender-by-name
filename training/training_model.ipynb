{
 "cells": [
  {
   "cell_type": "code",
   "execution_count": 7,
   "metadata": {},
   "outputs": [],
   "source": [
    "import pandas as pd\n",
    "import numpy as np\n",
    "from sklearn.model_selection import train_test_split\n",
    "from tensorflow.keras.preprocessing.text import Tokenizer\n",
    "from tensorflow.keras.preprocessing.sequence import pad_sequences\n",
    "from tensorflow.keras.models import Sequential\n",
    "from tensorflow.keras.layers import Embedding, LSTM, Dense, Dropout\n",
    "\n",
    "import mlflow\n",
    "import mlflow.keras\n",
    "\n",
    "\n",
    "import pickle"
   ]
  },
  {
   "cell_type": "code",
   "execution_count": 8,
   "metadata": {},
   "outputs": [],
   "source": [
    "def create_model(embedding_dim=128, lstm_units=64, dropout_rate=0.5):\n",
    "    model = Sequential()\n",
    "    model.add(Embedding(input_dim=len(tokenizer.word_index) + 1, output_dim=embedding_dim, input_length=max_sequence_length))\n",
    "    model.add(LSTM(units=lstm_units))\n",
    "    model.add(Dropout(rate=dropout_rate))\n",
    "    model.add(Dense(1, activation='sigmoid'))\n",
    "    \n",
    "    model.compile(optimizer='adam', loss='binary_crossentropy', metrics=['accuracy'])\n",
    "    return model"
   ]
  },
  {
   "cell_type": "code",
   "execution_count": 9,
   "metadata": {},
   "outputs": [],
   "source": [
    "seed = 42\n",
    "\n",
    "# Load dataset\n",
    "trainingDf = pd.read_csv('../data_cleaning/spanish names db - training.csv')\n",
    "validationDf = pd.read_csv('../data_cleaning/spanish names db - validation.csv')\n",
    "testingDf = pd.read_csv('../data_cleaning/spanish names db - testing.csv')"
   ]
  },
  {
   "cell_type": "code",
   "execution_count": 10,
   "metadata": {},
   "outputs": [],
   "source": [
    "X_train = trainingDf['name']\n",
    "y_train = trainingDf['gender']\n",
    "\n",
    "X_val = validationDf['name']\n",
    "y_val = validationDf['gender']\n",
    "\n",
    "X_test = testingDf['name']\n",
    "y_test  = testingDf['gender']"
   ]
  },
  {
   "cell_type": "code",
   "execution_count": 11,
   "metadata": {},
   "outputs": [],
   "source": [
    "# Tokenize names using only the training data\n",
    "tokenizer = Tokenizer(char_level=True, lower=True)\n",
    "tokenizer.fit_on_texts(X_train)\n",
    "\n",
    "# Convert names to sequences\n",
    "train_sequences = tokenizer.texts_to_sequences(X_train)\n",
    "val_sequences = tokenizer.texts_to_sequences(X_val)\n",
    "test_sequences = tokenizer.texts_to_sequences(X_test)\n",
    "\n",
    "# Determine the maximum sequence length from the training data\n",
    "max_sequence_length = max(len(seq) for seq in train_sequences)\n",
    "\n",
    "# Pad sequences to the same length\n",
    "X_train_padded = pad_sequences(train_sequences, maxlen=max_sequence_length)\n",
    "X_val_padded = pad_sequences(val_sequences, maxlen=max_sequence_length)\n",
    "X_test_padded = pad_sequences(test_sequences, maxlen=max_sequence_length)\n",
    "\n",
    "# Save tokenizer\n",
    "tokenizer_info = {\n",
    "    'tokenizer': tokenizer,\n",
    "    'max_sequence_length': max_sequence_length\n",
    "}\n",
    "\n",
    "with open('tokenizer_info.pickle', 'wb') as handle:\n",
    "    pickle.dump(tokenizer_info, handle, protocol=pickle.HIGHEST_PROTOCOL)"
   ]
  },
  {
   "cell_type": "code",
   "execution_count": 16,
   "metadata": {},
   "outputs": [
    {
     "name": "stderr",
     "output_type": "stream",
     "text": [
      "2024/07/15 02:54:37 WARNING mlflow.utils.autologging_utils: You are using an unsupported version of keras. If you encounter errors during autologging, try upgrading / downgrading keras to a supported version, or try upgrading MLflow.\n",
      "/opt/conda/envs/mlopsproject/lib/python3.11/site-packages/keras/src/layers/core/embedding.py:90: UserWarning: Argument `input_length` is deprecated. Just remove it.\n",
      "  warnings.warn(\n",
      "2024/07/15 02:54:37 WARNING mlflow.keras.autologging: Failed to log dataset information to MLflow. Reason: 'Series' object has no attribute 'flatten'\n"
     ]
    },
    {
     "data": {
      "text/html": [
       "<pre style=\"white-space:pre;overflow-x:auto;line-height:normal;font-family:Menlo,'DejaVu Sans Mono',consolas,'Courier New',monospace\"></pre>\n"
      ],
      "text/plain": []
     },
     "metadata": {},
     "output_type": "display_data"
    },
    {
     "name": "stdout",
     "output_type": "stream",
     "text": [
      "Epoch 1/10\n",
      "\u001b[1m1797/1797\u001b[0m \u001b[32m━━━━━━━━━━━━━━━━━━━━\u001b[0m\u001b[37m\u001b[0m \u001b[1m17s\u001b[0m 8ms/step - accuracy: 0.8569 - loss: 0.3249 - val_accuracy: 0.9166 - val_loss: 0.1938\n",
      "Epoch 2/10\n",
      "\u001b[1m1797/1797\u001b[0m \u001b[32m━━━━━━━━━━━━━━━━━━━━\u001b[0m\u001b[37m\u001b[0m \u001b[1m15s\u001b[0m 8ms/step - accuracy: 0.9162 - loss: 0.2014 - val_accuracy: 0.9257 - val_loss: 0.1720\n",
      "Epoch 3/10\n",
      "\u001b[1m1797/1797\u001b[0m \u001b[32m━━━━━━━━━━━━━━━━━━━━\u001b[0m\u001b[37m\u001b[0m \u001b[1m15s\u001b[0m 8ms/step - accuracy: 0.9261 - loss: 0.1783 - val_accuracy: 0.9319 - val_loss: 0.1597\n",
      "Epoch 4/10\n",
      "\u001b[1m1797/1797\u001b[0m \u001b[32m━━━━━━━━━━━━━━━━━━━━\u001b[0m\u001b[37m\u001b[0m \u001b[1m15s\u001b[0m 8ms/step - accuracy: 0.9316 - loss: 0.1657 - val_accuracy: 0.9328 - val_loss: 0.1533\n",
      "Epoch 5/10\n",
      "\u001b[1m1797/1797\u001b[0m \u001b[32m━━━━━━━━━━━━━━━━━━━━\u001b[0m\u001b[37m\u001b[0m \u001b[1m15s\u001b[0m 8ms/step - accuracy: 0.9325 - loss: 0.1612 - val_accuracy: 0.9375 - val_loss: 0.1461\n",
      "Epoch 6/10\n",
      "\u001b[1m1797/1797\u001b[0m \u001b[32m━━━━━━━━━━━━━━━━━━━━\u001b[0m\u001b[37m\u001b[0m \u001b[1m15s\u001b[0m 8ms/step - accuracy: 0.9408 - loss: 0.1468 - val_accuracy: 0.9367 - val_loss: 0.1494\n",
      "Epoch 7/10\n",
      "\u001b[1m1797/1797\u001b[0m \u001b[32m━━━━━━━━━━━━━━━━━━━━\u001b[0m\u001b[37m\u001b[0m \u001b[1m15s\u001b[0m 8ms/step - accuracy: 0.9416 - loss: 0.1429 - val_accuracy: 0.9419 - val_loss: 0.1395\n",
      "Epoch 8/10\n",
      "\u001b[1m1797/1797\u001b[0m \u001b[32m━━━━━━━━━━━━━━━━━━━━\u001b[0m\u001b[37m\u001b[0m \u001b[1m15s\u001b[0m 8ms/step - accuracy: 0.9447 - loss: 0.1384 - val_accuracy: 0.9424 - val_loss: 0.1365\n",
      "Epoch 9/10\n",
      "\u001b[1m1797/1797\u001b[0m \u001b[32m━━━━━━━━━━━━━━━━━━━━\u001b[0m\u001b[37m\u001b[0m \u001b[1m15s\u001b[0m 8ms/step - accuracy: 0.9466 - loss: 0.1297 - val_accuracy: 0.9439 - val_loss: 0.1344\n",
      "Epoch 10/10\n",
      "\u001b[1m1797/1797\u001b[0m \u001b[32m━━━━━━━━━━━━━━━━━━━━\u001b[0m\u001b[37m\u001b[0m \u001b[1m15s\u001b[0m 8ms/step - accuracy: 0.9498 - loss: 0.1250 - val_accuracy: 0.9446 - val_loss: 0.1314\n"
     ]
    },
    {
     "name": "stderr",
     "output_type": "stream",
     "text": [
      "2024/07/15 02:57:13 WARNING mlflow.utils.autologging_utils: MLflow autologging encountered a warning: \"/opt/conda/envs/mlopsproject/lib/python3.11/site-packages/_distutils_hack/__init__.py:26: UserWarning: Setuptools is replacing distutils.\"\n"
     ]
    },
    {
     "name": "stdout",
     "output_type": "stream",
     "text": [
      "\u001b[1m514/514\u001b[0m \u001b[32m━━━━━━━━━━━━━━━━━━━━\u001b[0m\u001b[37m\u001b[0m \u001b[1m1s\u001b[0m 3ms/step - accuracy: 0.9406 - loss: 0.1463\n"
     ]
    }
   ],
   "source": [
    "# Enable auto logging\n",
    "mlflow.keras.autolog()\n",
    "\n",
    "with mlflow.start_run():\n",
    "    model = create_model(**params)\n",
    "    model.fit(X_train_padded, y_train, validation_data=(X_val_padded, y_val), epochs=10, batch_size=32)\n",
    "\n",
    "    # Evaluate the model\n",
    "    loss, accuracy = model.evaluate(X_test_padded, y_test)\n",
    "    mlflow.log_metric('test_loss', loss)\n",
    "    mlflow.log_metric('test_accuracy', accuracy)"
   ]
  },
  {
   "cell_type": "code",
   "execution_count": 17,
   "metadata": {},
   "outputs": [
    {
     "name": "stderr",
     "output_type": "stream",
     "text": [
      "2024/07/15 03:01:03 WARNING mlflow.keras.autologging: Failed to log dataset information to MLflow. Reason: 'Series' object has no attribute 'flatten'\n"
     ]
    },
    {
     "data": {
      "text/html": [
       "<pre style=\"white-space:pre;overflow-x:auto;line-height:normal;font-family:Menlo,'DejaVu Sans Mono',consolas,'Courier New',monospace\"></pre>\n"
      ],
      "text/plain": []
     },
     "metadata": {},
     "output_type": "display_data"
    },
    {
     "name": "stdout",
     "output_type": "stream",
     "text": [
      "Epoch 1/10\n",
      "\u001b[1m1797/1797\u001b[0m \u001b[32m━━━━━━━━━━━━━━━━━━━━\u001b[0m\u001b[37m\u001b[0m \u001b[1m41s\u001b[0m 22ms/step - accuracy: 0.8629 - loss: 0.3033 - val_accuracy: 0.9249 - val_loss: 0.1775\n",
      "Epoch 2/10\n",
      "\u001b[1m1797/1797\u001b[0m \u001b[32m━━━━━━━━━━━━━━━━━━━━\u001b[0m\u001b[37m\u001b[0m \u001b[1m41s\u001b[0m 22ms/step - accuracy: 0.9238 - loss: 0.1823 - val_accuracy: 0.9344 - val_loss: 0.1531\n",
      "Epoch 3/10\n",
      "\u001b[1m1797/1797\u001b[0m \u001b[32m━━━━━━━━━━━━━━━━━━━━\u001b[0m\u001b[37m\u001b[0m \u001b[1m40s\u001b[0m 22ms/step - accuracy: 0.9334 - loss: 0.1593 - val_accuracy: 0.9409 - val_loss: 0.1402\n",
      "Epoch 4/10\n",
      "\u001b[1m1797/1797\u001b[0m \u001b[32m━━━━━━━━━━━━━━━━━━━━\u001b[0m\u001b[37m\u001b[0m \u001b[1m43s\u001b[0m 23ms/step - accuracy: 0.9410 - loss: 0.1416 - val_accuracy: 0.9439 - val_loss: 0.1350\n",
      "Epoch 5/10\n",
      "\u001b[1m1797/1797\u001b[0m \u001b[32m━━━━━━━━━━━━━━━━━━━━\u001b[0m\u001b[37m\u001b[0m \u001b[1m40s\u001b[0m 22ms/step - accuracy: 0.9478 - loss: 0.1311 - val_accuracy: 0.9486 - val_loss: 0.1301\n",
      "Epoch 6/10\n",
      "\u001b[1m1797/1797\u001b[0m \u001b[32m━━━━━━━━━━━━━━━━━━━━\u001b[0m\u001b[37m\u001b[0m \u001b[1m42s\u001b[0m 23ms/step - accuracy: 0.9518 - loss: 0.1207 - val_accuracy: 0.9453 - val_loss: 0.1333\n",
      "Epoch 7/10\n",
      "\u001b[1m1797/1797\u001b[0m \u001b[32m━━━━━━━━━━━━━━━━━━━━\u001b[0m\u001b[37m\u001b[0m \u001b[1m39s\u001b[0m 22ms/step - accuracy: 0.9544 - loss: 0.1129 - val_accuracy: 0.9496 - val_loss: 0.1257\n",
      "Epoch 8/10\n",
      "\u001b[1m1797/1797\u001b[0m \u001b[32m━━━━━━━━━━━━━━━━━━━━\u001b[0m\u001b[37m\u001b[0m \u001b[1m39s\u001b[0m 22ms/step - accuracy: 0.9583 - loss: 0.1073 - val_accuracy: 0.9490 - val_loss: 0.1283\n",
      "Epoch 9/10\n",
      "\u001b[1m1797/1797\u001b[0m \u001b[32m━━━━━━━━━━━━━━━━━━━━\u001b[0m\u001b[37m\u001b[0m \u001b[1m41s\u001b[0m 21ms/step - accuracy: 0.9624 - loss: 0.0978 - val_accuracy: 0.9484 - val_loss: 0.1306\n",
      "Epoch 10/10\n",
      "\u001b[1m1797/1797\u001b[0m \u001b[32m━━━━━━━━━━━━━━━━━━━━\u001b[0m\u001b[37m\u001b[0m \u001b[1m41s\u001b[0m 21ms/step - accuracy: 0.9634 - loss: 0.0916 - val_accuracy: 0.9475 - val_loss: 0.1308\n",
      "\u001b[1m514/514\u001b[0m \u001b[32m━━━━━━━━━━━━━━━━━━━━\u001b[0m\u001b[37m\u001b[0m \u001b[1m3s\u001b[0m 6ms/step - accuracy: 0.9429 - loss: 0.1558\n"
     ]
    },
    {
     "name": "stderr",
     "output_type": "stream",
     "text": [
      "2024/07/15 03:07:57 WARNING mlflow.keras.autologging: Failed to log dataset information to MLflow. Reason: 'Series' object has no attribute 'flatten'\n"
     ]
    },
    {
     "data": {
      "text/html": [
       "<pre style=\"white-space:pre;overflow-x:auto;line-height:normal;font-family:Menlo,'DejaVu Sans Mono',consolas,'Courier New',monospace\"></pre>\n"
      ],
      "text/plain": []
     },
     "metadata": {},
     "output_type": "display_data"
    },
    {
     "name": "stdout",
     "output_type": "stream",
     "text": [
      "Epoch 1/10\n",
      "\u001b[1m1797/1797\u001b[0m \u001b[32m━━━━━━━━━━━━━━━━━━━━\u001b[0m\u001b[37m\u001b[0m \u001b[1m17s\u001b[0m 8ms/step - accuracy: 0.8426 - loss: 0.3360 - val_accuracy: 0.9123 - val_loss: 0.1983\n",
      "Epoch 2/10\n",
      "\u001b[1m1797/1797\u001b[0m \u001b[32m━━━━━━━━━━━━━━━━━━━━\u001b[0m\u001b[37m\u001b[0m \u001b[1m20s\u001b[0m 8ms/step - accuracy: 0.9155 - loss: 0.2028 - val_accuracy: 0.9235 - val_loss: 0.1753\n",
      "Epoch 3/10\n",
      "\u001b[1m1797/1797\u001b[0m \u001b[32m━━━━━━━━━━━━━━━━━━━━\u001b[0m\u001b[37m\u001b[0m \u001b[1m15s\u001b[0m 8ms/step - accuracy: 0.9228 - loss: 0.1816 - val_accuracy: 0.9258 - val_loss: 0.1651\n",
      "Epoch 4/10\n",
      "\u001b[1m1797/1797\u001b[0m \u001b[32m━━━━━━━━━━━━━━━━━━━━\u001b[0m\u001b[37m\u001b[0m \u001b[1m15s\u001b[0m 8ms/step - accuracy: 0.9304 - loss: 0.1644 - val_accuracy: 0.9388 - val_loss: 0.1510\n",
      "Epoch 5/10\n",
      "\u001b[1m1797/1797\u001b[0m \u001b[32m━━━━━━━━━━━━━━━━━━━━\u001b[0m\u001b[37m\u001b[0m \u001b[1m15s\u001b[0m 8ms/step - accuracy: 0.9373 - loss: 0.1520 - val_accuracy: 0.9396 - val_loss: 0.1455\n",
      "Epoch 6/10\n",
      "\u001b[1m1797/1797\u001b[0m \u001b[32m━━━━━━━━━━━━━━━━━━━━\u001b[0m\u001b[37m\u001b[0m \u001b[1m15s\u001b[0m 8ms/step - accuracy: 0.9398 - loss: 0.1469 - val_accuracy: 0.9405 - val_loss: 0.1422\n",
      "Epoch 7/10\n",
      "\u001b[1m1797/1797\u001b[0m \u001b[32m━━━━━━━━━━━━━━━━━━━━\u001b[0m\u001b[37m\u001b[0m \u001b[1m15s\u001b[0m 8ms/step - accuracy: 0.9427 - loss: 0.1408 - val_accuracy: 0.9407 - val_loss: 0.1387\n",
      "Epoch 8/10\n",
      "\u001b[1m1797/1797\u001b[0m \u001b[32m━━━━━━━━━━━━━━━━━━━━\u001b[0m\u001b[37m\u001b[0m \u001b[1m15s\u001b[0m 8ms/step - accuracy: 0.9458 - loss: 0.1367 - val_accuracy: 0.9434 - val_loss: 0.1347\n",
      "Epoch 9/10\n",
      "\u001b[1m1797/1797\u001b[0m \u001b[32m━━━━━━━━━━━━━━━━━━━━\u001b[0m\u001b[37m\u001b[0m \u001b[1m15s\u001b[0m 8ms/step - accuracy: 0.9483 - loss: 0.1288 - val_accuracy: 0.9445 - val_loss: 0.1336\n",
      "Epoch 10/10\n",
      "\u001b[1m1797/1797\u001b[0m \u001b[32m━━━━━━━━━━━━━━━━━━━━\u001b[0m\u001b[37m\u001b[0m \u001b[1m15s\u001b[0m 8ms/step - accuracy: 0.9499 - loss: 0.1235 - val_accuracy: 0.9448 - val_loss: 0.1334\n",
      "\u001b[1m514/514\u001b[0m \u001b[32m━━━━━━━━━━━━━━━━━━━━\u001b[0m\u001b[37m\u001b[0m \u001b[1m1s\u001b[0m 3ms/step - accuracy: 0.9394 - loss: 0.1462\n"
     ]
    },
    {
     "name": "stderr",
     "output_type": "stream",
     "text": [
      "2024/07/15 03:10:38 WARNING mlflow.keras.autologging: Failed to log dataset information to MLflow. Reason: 'Series' object has no attribute 'flatten'\n"
     ]
    },
    {
     "data": {
      "text/html": [
       "<pre style=\"white-space:pre;overflow-x:auto;line-height:normal;font-family:Menlo,'DejaVu Sans Mono',consolas,'Courier New',monospace\"></pre>\n"
      ],
      "text/plain": []
     },
     "metadata": {},
     "output_type": "display_data"
    },
    {
     "name": "stdout",
     "output_type": "stream",
     "text": [
      "Epoch 1/10\n",
      "\u001b[1m1797/1797\u001b[0m \u001b[32m━━━━━━━━━━━━━━━━━━━━\u001b[0m\u001b[37m\u001b[0m \u001b[1m13s\u001b[0m 6ms/step - accuracy: 0.8315 - loss: 0.3615 - val_accuracy: 0.9056 - val_loss: 0.2151\n",
      "Epoch 2/10\n",
      "\u001b[1m1797/1797\u001b[0m \u001b[32m━━━━━━━━━━━━━━━━━━━━\u001b[0m\u001b[37m\u001b[0m \u001b[1m11s\u001b[0m 6ms/step - accuracy: 0.9075 - loss: 0.2257 - val_accuracy: 0.9179 - val_loss: 0.1879\n",
      "Epoch 3/10\n",
      "\u001b[1m1797/1797\u001b[0m \u001b[32m━━━━━━━━━━━━━━━━━━━━\u001b[0m\u001b[37m\u001b[0m \u001b[1m11s\u001b[0m 6ms/step - accuracy: 0.9130 - loss: 0.2061 - val_accuracy: 0.9220 - val_loss: 0.1810\n",
      "Epoch 4/10\n",
      "\u001b[1m1797/1797\u001b[0m \u001b[32m━━━━━━━━━━━━━━━━━━━━\u001b[0m\u001b[37m\u001b[0m \u001b[1m11s\u001b[0m 6ms/step - accuracy: 0.9196 - loss: 0.1880 - val_accuracy: 0.9238 - val_loss: 0.1799\n",
      "Epoch 5/10\n",
      "\u001b[1m1797/1797\u001b[0m \u001b[32m━━━━━━━━━━━━━━━━━━━━\u001b[0m\u001b[37m\u001b[0m \u001b[1m11s\u001b[0m 6ms/step - accuracy: 0.9258 - loss: 0.1777 - val_accuracy: 0.9321 - val_loss: 0.1594\n",
      "Epoch 6/10\n",
      "\u001b[1m1797/1797\u001b[0m \u001b[32m━━━━━━━━━━━━━━━━━━━━\u001b[0m\u001b[37m\u001b[0m \u001b[1m11s\u001b[0m 6ms/step - accuracy: 0.9290 - loss: 0.1741 - val_accuracy: 0.9296 - val_loss: 0.1577\n",
      "Epoch 7/10\n",
      "\u001b[1m1797/1797\u001b[0m \u001b[32m━━━━━━━━━━━━━━━━━━━━\u001b[0m\u001b[37m\u001b[0m \u001b[1m11s\u001b[0m 6ms/step - accuracy: 0.9310 - loss: 0.1658 - val_accuracy: 0.9344 - val_loss: 0.1556\n",
      "Epoch 8/10\n",
      "\u001b[1m1797/1797\u001b[0m \u001b[32m━━━━━━━━━━━━━━━━━━━━\u001b[0m\u001b[37m\u001b[0m \u001b[1m11s\u001b[0m 6ms/step - accuracy: 0.9342 - loss: 0.1564 - val_accuracy: 0.9350 - val_loss: 0.1497\n",
      "Epoch 9/10\n",
      "\u001b[1m1797/1797\u001b[0m \u001b[32m━━━━━━━━━━━━━━━━━━━━\u001b[0m\u001b[37m\u001b[0m \u001b[1m11s\u001b[0m 6ms/step - accuracy: 0.9366 - loss: 0.1541 - val_accuracy: 0.9377 - val_loss: 0.1480\n",
      "Epoch 10/10\n",
      "\u001b[1m1797/1797\u001b[0m \u001b[32m━━━━━━━━━━━━━━━━━━━━\u001b[0m\u001b[37m\u001b[0m \u001b[1m11s\u001b[0m 6ms/step - accuracy: 0.9366 - loss: 0.1526 - val_accuracy: 0.9391 - val_loss: 0.1446\n",
      "\u001b[1m514/514\u001b[0m \u001b[32m━━━━━━━━━━━━━━━━━━━━\u001b[0m\u001b[37m\u001b[0m \u001b[1m1s\u001b[0m 2ms/step - accuracy: 0.9345 - loss: 0.1571\n"
     ]
    },
    {
     "name": "stderr",
     "output_type": "stream",
     "text": [
      "2024/07/15 03:12:33 WARNING mlflow.keras.autologging: Failed to log dataset information to MLflow. Reason: 'Series' object has no attribute 'flatten'\n"
     ]
    },
    {
     "data": {
      "text/html": [
       "<pre style=\"white-space:pre;overflow-x:auto;line-height:normal;font-family:Menlo,'DejaVu Sans Mono',consolas,'Courier New',monospace\"></pre>\n"
      ],
      "text/plain": []
     },
     "metadata": {},
     "output_type": "display_data"
    },
    {
     "name": "stdout",
     "output_type": "stream",
     "text": [
      "Epoch 1/10\n",
      "\u001b[1m1797/1797\u001b[0m \u001b[32m━━━━━━━━━━━━━━━━━━━━\u001b[0m\u001b[37m\u001b[0m \u001b[1m13s\u001b[0m 6ms/step - accuracy: 0.8281 - loss: 0.3682 - val_accuracy: 0.9132 - val_loss: 0.2001\n",
      "Epoch 2/10\n",
      "\u001b[1m1797/1797\u001b[0m \u001b[32m━━━━━━━━━━━━━━━━━━━━\u001b[0m\u001b[37m\u001b[0m \u001b[1m11s\u001b[0m 6ms/step - accuracy: 0.9072 - loss: 0.2215 - val_accuracy: 0.9230 - val_loss: 0.1795\n",
      "Epoch 3/10\n",
      "\u001b[1m1797/1797\u001b[0m \u001b[32m━━━━━━━━━━━━━━━━━━━━\u001b[0m\u001b[37m\u001b[0m \u001b[1m11s\u001b[0m 6ms/step - accuracy: 0.9173 - loss: 0.2021 - val_accuracy: 0.9269 - val_loss: 0.1682\n",
      "Epoch 4/10\n",
      "\u001b[1m1797/1797\u001b[0m \u001b[32m━━━━━━━━━━━━━━━━━━━━\u001b[0m\u001b[37m\u001b[0m \u001b[1m11s\u001b[0m 6ms/step - accuracy: 0.9229 - loss: 0.1903 - val_accuracy: 0.9288 - val_loss: 0.1652\n",
      "Epoch 5/10\n",
      "\u001b[1m1797/1797\u001b[0m \u001b[32m━━━━━━━━━━━━━━━━━━━━\u001b[0m\u001b[37m\u001b[0m \u001b[1m11s\u001b[0m 6ms/step - accuracy: 0.9265 - loss: 0.1785 - val_accuracy: 0.9329 - val_loss: 0.1570\n",
      "Epoch 6/10\n",
      "\u001b[1m1797/1797\u001b[0m \u001b[32m━━━━━━━━━━━━━━━━━━━━\u001b[0m\u001b[37m\u001b[0m \u001b[1m11s\u001b[0m 6ms/step - accuracy: 0.9289 - loss: 0.1769 - val_accuracy: 0.9334 - val_loss: 0.1552\n",
      "Epoch 7/10\n",
      "\u001b[1m1797/1797\u001b[0m \u001b[32m━━━━━━━━━━━━━━━━━━━━\u001b[0m\u001b[37m\u001b[0m \u001b[1m20s\u001b[0m 6ms/step - accuracy: 0.9323 - loss: 0.1702 - val_accuracy: 0.9347 - val_loss: 0.1548\n",
      "Epoch 8/10\n",
      "\u001b[1m1797/1797\u001b[0m \u001b[32m━━━━━━━━━━━━━━━━━━━━\u001b[0m\u001b[37m\u001b[0m \u001b[1m11s\u001b[0m 6ms/step - accuracy: 0.9329 - loss: 0.1668 - val_accuracy: 0.9385 - val_loss: 0.1488\n",
      "Epoch 9/10\n",
      "\u001b[1m1797/1797\u001b[0m \u001b[32m━━━━━━━━━━━━━━━━━━━━\u001b[0m\u001b[37m\u001b[0m \u001b[1m11s\u001b[0m 6ms/step - accuracy: 0.9360 - loss: 0.1614 - val_accuracy: 0.9372 - val_loss: 0.1464\n",
      "Epoch 10/10\n",
      "\u001b[1m1797/1797\u001b[0m \u001b[32m━━━━━━━━━━━━━━━━━━━━\u001b[0m\u001b[37m\u001b[0m \u001b[1m11s\u001b[0m 6ms/step - accuracy: 0.9363 - loss: 0.1605 - val_accuracy: 0.9373 - val_loss: 0.1509\n",
      "\u001b[1m514/514\u001b[0m \u001b[32m━━━━━━━━━━━━━━━━━━━━\u001b[0m\u001b[37m\u001b[0m \u001b[1m1s\u001b[0m 2ms/step - accuracy: 0.9330 - loss: 0.1589\n"
     ]
    },
    {
     "name": "stderr",
     "output_type": "stream",
     "text": [
      "2024/07/15 03:14:40 WARNING mlflow.keras.autologging: Failed to log dataset information to MLflow. Reason: 'Series' object has no attribute 'flatten'\n"
     ]
    },
    {
     "data": {
      "text/html": [
       "<pre style=\"white-space:pre;overflow-x:auto;line-height:normal;font-family:Menlo,'DejaVu Sans Mono',consolas,'Courier New',monospace\"></pre>\n"
      ],
      "text/plain": []
     },
     "metadata": {},
     "output_type": "display_data"
    },
    {
     "name": "stdout",
     "output_type": "stream",
     "text": [
      "Epoch 1/10\n",
      "\u001b[1m1797/1797\u001b[0m \u001b[32m━━━━━━━━━━━━━━━━━━━━\u001b[0m\u001b[37m\u001b[0m \u001b[1m13s\u001b[0m 6ms/step - accuracy: 0.8285 - loss: 0.3581 - val_accuracy: 0.9095 - val_loss: 0.2080\n",
      "Epoch 2/10\n",
      "\u001b[1m1797/1797\u001b[0m \u001b[32m━━━━━━━━━━━━━━━━━━━━\u001b[0m\u001b[37m\u001b[0m \u001b[1m11s\u001b[0m 6ms/step - accuracy: 0.9077 - loss: 0.2155 - val_accuracy: 0.9205 - val_loss: 0.1895\n",
      "Epoch 3/10\n",
      "\u001b[1m1797/1797\u001b[0m \u001b[32m━━━━━━━━━━━━━━━━━━━━\u001b[0m\u001b[37m\u001b[0m \u001b[1m11s\u001b[0m 6ms/step - accuracy: 0.9163 - loss: 0.1976 - val_accuracy: 0.9245 - val_loss: 0.1757\n",
      "Epoch 4/10\n",
      "\u001b[1m1797/1797\u001b[0m \u001b[32m━━━━━━━━━━━━━━━━━━━━\u001b[0m\u001b[37m\u001b[0m \u001b[1m11s\u001b[0m 6ms/step - accuracy: 0.9229 - loss: 0.1825 - val_accuracy: 0.9302 - val_loss: 0.1631\n",
      "Epoch 5/10\n",
      "\u001b[1m1797/1797\u001b[0m \u001b[32m━━━━━━━━━━━━━━━━━━━━\u001b[0m\u001b[37m\u001b[0m \u001b[1m11s\u001b[0m 6ms/step - accuracy: 0.9314 - loss: 0.1706 - val_accuracy: 0.9349 - val_loss: 0.1580\n",
      "Epoch 6/10\n",
      "\u001b[1m1797/1797\u001b[0m \u001b[32m━━━━━━━━━━━━━━━━━━━━\u001b[0m\u001b[37m\u001b[0m \u001b[1m11s\u001b[0m 6ms/step - accuracy: 0.9310 - loss: 0.1678 - val_accuracy: 0.9333 - val_loss: 0.1553\n",
      "Epoch 7/10\n",
      "\u001b[1m1797/1797\u001b[0m \u001b[32m━━━━━━━━━━━━━━━━━━━━\u001b[0m\u001b[37m\u001b[0m \u001b[1m11s\u001b[0m 6ms/step - accuracy: 0.9348 - loss: 0.1598 - val_accuracy: 0.9372 - val_loss: 0.1496\n",
      "Epoch 8/10\n",
      "\u001b[1m1797/1797\u001b[0m \u001b[32m━━━━━━━━━━━━━━━━━━━━\u001b[0m\u001b[37m\u001b[0m \u001b[1m11s\u001b[0m 6ms/step - accuracy: 0.9383 - loss: 0.1544 - val_accuracy: 0.9380 - val_loss: 0.1491\n",
      "Epoch 9/10\n",
      "\u001b[1m1797/1797\u001b[0m \u001b[32m━━━━━━━━━━━━━━━━━━━━\u001b[0m\u001b[37m\u001b[0m \u001b[1m11s\u001b[0m 6ms/step - accuracy: 0.9367 - loss: 0.1492 - val_accuracy: 0.9407 - val_loss: 0.1416\n",
      "Epoch 10/10\n",
      "\u001b[1m1797/1797\u001b[0m \u001b[32m━━━━━━━━━━━━━━━━━━━━\u001b[0m\u001b[37m\u001b[0m \u001b[1m11s\u001b[0m 6ms/step - accuracy: 0.9423 - loss: 0.1440 - val_accuracy: 0.9412 - val_loss: 0.1410\n",
      "\u001b[1m514/514\u001b[0m \u001b[32m━━━━━━━━━━━━━━━━━━━━\u001b[0m\u001b[37m\u001b[0m \u001b[1m1s\u001b[0m 2ms/step - accuracy: 0.9345 - loss: 0.1539\n"
     ]
    }
   ],
   "source": [
    "from sklearn.model_selection import ParameterSampler\n",
    "\n",
    "param_distributions = {\n",
    "    'embedding_dim': [64, 128, 256],\n",
    "    'lstm_units': [32, 64, 128],\n",
    "    'dropout_rate': [0.3, 0.5, 0.7]\n",
    "}\n",
    "\n",
    "n_iter = 5\n",
    "param_list = list(ParameterSampler(param_distributions, n_iter=n_iter, random_state=seed))\n",
    "\n",
    "for params in param_list:\n",
    "    with mlflow.start_run():\n",
    "        model = create_model(**params)\n",
    "        model.fit(X_train_padded, y_train, validation_data=(X_val_padded, y_val), epochs=10, batch_size=32)\n",
    "\n",
    "        # Evaluate the model\n",
    "        loss, accuracy = model.evaluate(X_test_padded, y_test)\n",
    "        mlflow.log_metric('test_loss', loss)\n",
    "        mlflow.log_metric('test_accuracy', accuracy)\n",
    "\n",
    "        # Log hyperparameters\n",
    "        mlflow.log_params(params)\n"
   ]
  }
 ],
 "metadata": {
  "kernelspec": {
   "display_name": "mlopsproject",
   "language": "python",
   "name": "python3"
  },
  "language_info": {
   "codemirror_mode": {
    "name": "ipython",
    "version": 3
   },
   "file_extension": ".py",
   "mimetype": "text/x-python",
   "name": "python",
   "nbconvert_exporter": "python",
   "pygments_lexer": "ipython3",
   "version": "3.11.9"
  }
 },
 "nbformat": 4,
 "nbformat_minor": 2
}
