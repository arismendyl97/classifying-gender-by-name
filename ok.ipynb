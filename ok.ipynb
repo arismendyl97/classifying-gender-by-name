{
 "cells": [
  {
   "cell_type": "code",
   "execution_count": 8,
   "metadata": {},
   "outputs": [
    {
     "name": "stderr",
     "output_type": "stream",
     "text": [
      "/opt/conda/envs/mlopsproject/lib/python3.11/site-packages/pydantic/_internal/_fields.py:161: UserWarning: Field \"model_name\" has conflict with protected namespace \"model_\".\n",
      "\n",
      "You may be able to resolve this warning by setting `model_config['protected_namespaces'] = ()`.\n",
      "  warnings.warn(\n",
      "/opt/conda/envs/mlopsproject/lib/python3.11/site-packages/pydantic/_internal/_fields.py:161: UserWarning: Field \"model_version\" has conflict with protected namespace \"model_\".\n",
      "\n",
      "You may be able to resolve this warning by setting `model_config['protected_namespaces'] = ()`.\n",
      "  warnings.warn(\n",
      "/opt/conda/envs/mlopsproject/lib/python3.11/contextlib.py:144: SAWarning: Skipped unsupported reflection of expression-based index ix_flow_run__coalesce_start_time_expected_start_time_desc\n",
      "  next(self.gen)\n",
      "/opt/conda/envs/mlopsproject/lib/python3.11/contextlib.py:144: SAWarning: Skipped unsupported reflection of expression-based index ix_flow_run__coalesce_start_time_expected_start_time_asc\n",
      "  next(self.gen)\n"
     ]
    }
   ],
   "source": [
    "from prefect import flow, task\n",
    "import mlflow.keras\n",
    "from flask import Flask, request, jsonify\n",
    "import prometheus_client\n",
    "from prometheus_client import Counter\n",
    "import threading\n",
    "\n",
    "@task\n",
    "def load_model(model_name: str, model_version: int):\n",
    "    model_uri = f\"models:/{model_name}/{model_version}\"\n",
    "    model = mlflow.keras.load_model(model_uri=model_uri)\n",
    "    return model\n",
    "\n",
    "def create_flask_app(model):\n",
    "    app = Flask(__name__)\n",
    "\n",
    "    # Create a counter to track the number of predictions\n",
    "    prediction_counter = Counter('model_predictions_total', 'Total number of model predictions')\n",
    "\n",
    "    @app.route('/predict', methods=['POST'])\n",
    "    def predict():\n",
    "        data = request.json\n",
    "        predictions = model.predict(data['instances'])\n",
    "        prediction_counter.inc()  # Increment the prediction counter\n",
    "        return jsonify(predictions.tolist())\n",
    "\n",
    "    @app.route('/metrics')\n",
    "    def metrics():\n",
    "        return prometheus_client.generate_latest(), 200\n",
    "\n",
    "    return app\n",
    "\n",
    "def run_flask_app(model):\n",
    "    app = create_flask_app(model)\n",
    "    app.run(host='0.0.0.0', port=5000)\n",
    "\n",
    "@task\n",
    "def start_flask_app(model):\n",
    "    thread = threading.Thread(target=run_flask_app, args=(model,))\n",
    "    thread.start()\n",
    "    return thread\n",
    "\n",
    "@flow(name=\"model-serving\")\n",
    "def model_serving_flow(model_name: str, model_version: int):\n",
    "    model = load_model(model_name, model_version)\n",
    "    start_flask_app(model)\n",
    "\n",
    "if __name__ == \"__main__\":\n",
    "    model_name = \"GenderClassificationModel\"\n",
    "    model_version = 1\n",
    "    model_serving_flow(model_name, model_version)"
   ]
  }
 ],
 "metadata": {
  "kernelspec": {
   "display_name": "mlopsproject",
   "language": "python",
   "name": "python3"
  },
  "language_info": {
   "codemirror_mode": {
    "name": "ipython",
    "version": 3
   },
   "file_extension": ".py",
   "mimetype": "text/x-python",
   "name": "python",
   "nbconvert_exporter": "python",
   "pygments_lexer": "ipython3",
   "version": "3.11.9"
  }
 },
 "nbformat": 4,
 "nbformat_minor": 2
}
